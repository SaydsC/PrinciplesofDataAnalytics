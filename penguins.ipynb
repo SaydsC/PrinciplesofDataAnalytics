{
 "cells": [
  {
   "cell_type": "markdown",
   "metadata": {},
   "source": [
    "# Project for the Principles of Data Analytics Module\n",
    "\n",
    "## Palmer Penguins Dataset\n",
    "\n",
    "Spring/Summer 2024\n",
    "\n",
    "By Sadie Concannon\n",
    "G00411297\n"
   ]
  },
  {
   "cell_type": "code",
   "execution_count": 1,
   "metadata": {},
   "outputs": [],
   "source": [
    "#Use seaborn library to access the penguins data set.\n",
    "import seaborn as sns\n",
    "\n",
    "#Loading the penguins data set.\n",
    "penguins = sns.load_dataset('penguins')"
   ]
  }
 ],
 "metadata": {
  "kernelspec": {
   "display_name": "Python 3",
   "language": "python",
   "name": "python3"
  },
  "language_info": {
   "codemirror_mode": {
    "name": "ipython",
    "version": 3
   },
   "file_extension": ".py",
   "mimetype": "text/x-python",
   "name": "python",
   "nbconvert_exporter": "python",
   "pygments_lexer": "ipython3",
   "version": "3.9.13"
  }
 },
 "nbformat": 4,
 "nbformat_minor": 2
}
